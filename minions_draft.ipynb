{
 "cells": [
  {
   "cell_type": "markdown",
   "metadata": {},
   "source": [
    "# Minions under drafting\n",
    "\n",
    "Here listed the code encountered but still waiting to be formally organized into code_minions.ipynb. Basically **a huge TODO list** :)"
   ]
  },
  {
   "cell_type": "markdown",
   "metadata": {},
   "source": [
    "Markdown Guide [Basic Syntax](https://www.markdownguide.org/basic-syntax)\n",
    "\n",
    "Hide Axis, Borders and White Spaces in Matplotlib [Guide](https://www.delftstack.com/howto/matplotlib/hide-axis-borders-and-white-spaces-in-matplotlib/)\n",
    "\n",
    "Play with `matplotlib.pyplot.savefig` [here](https://matplotlib.org/3.5.0/api/_as_gen/matplotlib.pyplot.savefig.html) \n",
    "\n",
    "Save `torch.tensor(B,C,H,W)` with `torchvision.utils.make_grid` and `torchvision.utils.save_image`, [example](http://pytorch.org/vision/main/auto_examples/plot_visualization_utils.html#sphx-glr-auto-examples-plot-visualization-utils-py) \n",
    "\n",
    "Weight & Biases (`wandb`) cool training visualisation/documentation/recording tool, [tutorial](https://wandb.ai/site)\n",
    "\n",
    "A [Table Generator](https://www.tablesgenerator.com/lateX_tables) for LaTeX/Markdown/MediaWiki.\n",
    "\n",
    "A tutorial about [Hausdorff Distance](http://web.stanford.edu/class/cs273/scribing/2004/class8/scribe8.pdf)\n",
    "\n",
    "Using VSCode as LaTeX compiler, [tutorial](https://zhuanlan.zhihu.com/p/38178015) in mandarin.\n",
    "\n",
    "Using `medpy.metric.binary.hd`, [tutorial](https://loli.github.io/medpy/generated/medpy.metric.binary.hd.html#medpy.metric.binary.hd); `scipy.spatial.distance.directed_hausdorff`, [here](https://docs.scipy.org/doc/scipy/reference/generated/scipy.spatial.distance.directed_hausdorff.html).\n",
    "\n",
    "A [tutorial](https://tug.org/TUGboat/tb34-1/tb106thurnherr.pdf) on placing figures side-by-side in LaTeX using `minipage` and `subfigure`.\n",
    "\n",
    "A [tutorial](https://clay-atlas.com/us/blog/2021/09/25/draw-io-en-insert-formula/) on \"How To Insert A Formula On [draw.io](https://app.diagrams.net/)\".\n",
    "\n",
    "AutoML [blog](https://www.cnblogs.com/marsggbo/) in mandarin."
   ]
  },
  {
   "cell_type": "code",
   "execution_count": null,
   "metadata": {
    "vscode": {
     "languageId": "plaintext"
    }
   },
   "outputs": [],
   "source": []
  }
 ],
 "metadata": {
  "language_info": {
   "name": "python"
  },
  "orig_nbformat": 4
 },
 "nbformat": 4,
 "nbformat_minor": 2
}
