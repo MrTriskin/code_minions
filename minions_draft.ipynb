{
 "cells": [
  {
   "cell_type": "markdown",
   "metadata": {},
   "source": [
    "# Minions under drafting\n",
    "\n",
    "Here listed the code encountered but still waiting to be formally organized into code_minions.ipynb. Basically **a huge TODO list** :)"
   ]
  },
  {
   "cell_type": "markdown",
   "metadata": {},
   "source": [
    "Markdown Guide [Basic Syntax](https://www.markdownguide.org/basic-syntax)\n",
    "\n",
    "Hide Axis, Borders and White Spaces in Matplotlib [Guide](https://www.delftstack.com/howto/matplotlib/hide-axis-borders-and-white-spaces-in-matplotlib/)\n",
    "\n",
    "Play with `matplotlib.pyplot.savefig` [here](https://matplotlib.org/3.5.0/api/_as_gen/matplotlib.pyplot.savefig.html)\n",
    "\n",
    "Weight & Biases (`wandb`) cool training visualisation/documentation/recording tool, [tutorial](https://wandb.ai/site)"
   ]
  },
  {
   "cell_type": "markdown",
   "metadata": {},
   "source": [
    "### Tricks I should have known earlier :("
   ]
  },
  {
   "cell_type": "code",
   "execution_count": null,
   "metadata": {
    "vscode": {
     "languageId": "plaintext"
    }
   },
   "outputs": [],
   "source": []
  }
 ],
 "metadata": {
  "language_info": {
   "name": "python"
  },
  "orig_nbformat": 4
 },
 "nbformat": 4,
 "nbformat_minor": 2
}
